{
 "cells": [
  {
   "cell_type": "markdown",
   "metadata": {},
   "source": [
    "# Music recommender system\n",
    "\n",
    "A **recommender** (or recommendation) **system** (or engine) is a filtering system which aim is to predict a rating or preference a user would give to an item, eg. a film, a product, a song, etc.\n",
    "\n",
    "Which type of recommender can we have?   \n",
    "\n",
    "There are two main types of recommender systems: \n",
    "- Content-based filters\n",
    "- Collaborative filters\n",
    "  \n",
    "> Content-based filters predicts what a user likes based on what that particular user has liked in the past. On the other hand, collaborative-based filters predict what a user like based on what other users, that are similar to that particular user, have liked.\n",
    "\n",
    "### 1) Content-based filters\n",
    "\n",
    "Recommendations done using content-based recommenders can be seen as a user-specific classification problem. This classifier learns the user's likes and dislikes from the features of the song.\n",
    "\n",
    "The most straightforward approach is **keyword matching**.\n",
    "\n",
    "In a few words, the idea behind is to extract meaningful keywords present in a song description a user likes, search for the keywords in other song descriptions to estimate similarities among them, and based on that, recommend those songs to the user.\n",
    "\n",
    "*How is this performed?*\n",
    "\n",
    "In our case, because we are working with text and words, **Term Frequency-Inverse Document Frequency (TF-IDF)** can be used for this matching process.\n",
    "  \n",
    "We'll go through the steps for generating a **content-based** music recommender system."
   ]
  },
  {
   "cell_type": "markdown",
   "metadata": {},
   "source": [
    "### Importing required libraries\n",
    "\n",
    "First, we'll import all the required libraries."
   ]
  },
  {
   "cell_type": "code",
   "execution_count": 43,
   "metadata": {},
   "outputs": [],
   "source": [
    "import numpy as np\n",
    "import pandas as pd"
   ]
  },
  {
   "cell_type": "code",
   "execution_count": 44,
   "metadata": {},
   "outputs": [],
   "source": [
    "from typing import List, Dict"
   ]
  },
  {
   "cell_type": "markdown",
   "metadata": {},
   "source": [
    "We are going to use TfidfVectorizer from the Scikit-learn package."
   ]
  },
  {
   "cell_type": "code",
   "execution_count": 45,
   "metadata": {},
   "outputs": [],
   "source": [
    "from sklearn.feature_extraction.text import TfidfVectorizer\n",
    "from sklearn.metrics.pairwise import cosine_similarity"
   ]
  },
  {
   "cell_type": "markdown",
   "metadata": {},
   "source": [
    "### Dataset"
   ]
  },
  {
   "cell_type": "markdown",
   "metadata": {},
   "source": [
    "\n",
    "This dataset contains name, artist, and lyrics for *57650 songs in English*."
   ]
  },
  {
   "cell_type": "code",
   "execution_count": 46,
   "metadata": {},
   "outputs": [],
   "source": [
    "songs = pd.read_csv('songdata.csv')"
   ]
  },
  {
   "cell_type": "code",
   "execution_count": 47,
   "metadata": {},
   "outputs": [
    {
     "data": {
      "text/html": [
       "<div>\n",
       "<style scoped>\n",
       "    .dataframe tbody tr th:only-of-type {\n",
       "        vertical-align: middle;\n",
       "    }\n",
       "\n",
       "    .dataframe tbody tr th {\n",
       "        vertical-align: top;\n",
       "    }\n",
       "\n",
       "    .dataframe thead th {\n",
       "        text-align: right;\n",
       "    }\n",
       "</style>\n",
       "<table border=\"1\" class=\"dataframe\">\n",
       "  <thead>\n",
       "    <tr style=\"text-align: right;\">\n",
       "      <th></th>\n",
       "      <th>artist</th>\n",
       "      <th>song</th>\n",
       "      <th>link</th>\n",
       "      <th>text</th>\n",
       "    </tr>\n",
       "  </thead>\n",
       "  <tbody>\n",
       "    <tr>\n",
       "      <th>0</th>\n",
       "      <td>ABBA</td>\n",
       "      <td>Ahe's My Kind Of Girl</td>\n",
       "      <td>/a/abba/ahes+my+kind+of+girl_20598417.html</td>\n",
       "      <td>Look at her face, it's a wonderful face  \\nAnd...</td>\n",
       "    </tr>\n",
       "    <tr>\n",
       "      <th>1</th>\n",
       "      <td>ABBA</td>\n",
       "      <td>Andante, Andante</td>\n",
       "      <td>/a/abba/andante+andante_20002708.html</td>\n",
       "      <td>Take it easy with me, please  \\nTouch me gentl...</td>\n",
       "    </tr>\n",
       "    <tr>\n",
       "      <th>2</th>\n",
       "      <td>ABBA</td>\n",
       "      <td>As Good As New</td>\n",
       "      <td>/a/abba/as+good+as+new_20003033.html</td>\n",
       "      <td>I'll never know why I had to go  \\nWhy I had t...</td>\n",
       "    </tr>\n",
       "    <tr>\n",
       "      <th>3</th>\n",
       "      <td>ABBA</td>\n",
       "      <td>Bang</td>\n",
       "      <td>/a/abba/bang_20598415.html</td>\n",
       "      <td>Making somebody happy is a question of give an...</td>\n",
       "    </tr>\n",
       "    <tr>\n",
       "      <th>4</th>\n",
       "      <td>ABBA</td>\n",
       "      <td>Bang-A-Boomerang</td>\n",
       "      <td>/a/abba/bang+a+boomerang_20002668.html</td>\n",
       "      <td>Making somebody happy is a question of give an...</td>\n",
       "    </tr>\n",
       "  </tbody>\n",
       "</table>\n",
       "</div>"
      ],
      "text/plain": [
       "  artist                   song                                        link  \\\n",
       "0   ABBA  Ahe's My Kind Of Girl  /a/abba/ahes+my+kind+of+girl_20598417.html   \n",
       "1   ABBA       Andante, Andante       /a/abba/andante+andante_20002708.html   \n",
       "2   ABBA         As Good As New        /a/abba/as+good+as+new_20003033.html   \n",
       "3   ABBA                   Bang                  /a/abba/bang_20598415.html   \n",
       "4   ABBA       Bang-A-Boomerang      /a/abba/bang+a+boomerang_20002668.html   \n",
       "\n",
       "                                                text  \n",
       "0  Look at her face, it's a wonderful face  \\nAnd...  \n",
       "1  Take it easy with me, please  \\nTouch me gentl...  \n",
       "2  I'll never know why I had to go  \\nWhy I had t...  \n",
       "3  Making somebody happy is a question of give an...  \n",
       "4  Making somebody happy is a question of give an...  "
      ]
     },
     "execution_count": 47,
     "metadata": {},
     "output_type": "execute_result"
    }
   ],
   "source": [
    "songs.head()"
   ]
  },
  {
   "cell_type": "markdown",
   "metadata": {},
   "source": [
    "Because of the dataset being so big, we are going to resample only 5000 random songs."
   ]
  },
  {
   "cell_type": "code",
   "execution_count": 48,
   "metadata": {},
   "outputs": [],
   "source": [
    "songs = songs.sample(n=5000).drop('link', axis=1).reset_index(drop=True)"
   ]
  },
  {
   "cell_type": "markdown",
   "metadata": {},
   "source": [
    "We can notice also the presence of `\\n` in the text, so we are going to remove it."
   ]
  },
  {
   "cell_type": "code",
   "execution_count": 49,
   "metadata": {},
   "outputs": [
    {
     "name": "stderr",
     "output_type": "stream",
     "text": [
      "/tmp/ipykernel_88038/269676193.py:1: FutureWarning: The default value of regex will change from True to False in a future version.\n",
      "  songs['text'] = songs['text'].str.replace(r'\\n', '')\n"
     ]
    }
   ],
   "source": [
    "songs['text'] = songs['text'].str.replace(r'\\n', '')"
   ]
  },
  {
   "cell_type": "markdown",
   "metadata": {},
   "source": [
    "After that, we use TF-IDF vectorizerthat calculates the TF-IDF score for each song lyric, word-by-word."
   ]
  },
  {
   "cell_type": "code",
   "execution_count": 50,
   "metadata": {},
   "outputs": [],
   "source": [
    "tfidf = TfidfVectorizer(analyzer='word', stop_words='english')"
   ]
  },
  {
   "cell_type": "code",
   "execution_count": 51,
   "metadata": {},
   "outputs": [],
   "source": [
    "lyrics_matrix = tfidf.fit_transform(songs['text'])"
   ]
  },
  {
   "cell_type": "markdown",
   "metadata": {},
   "source": [
    "We now need to calculate the similarity of one lyric to another. We are going to use **cosine similarity**.\n",
    "\n",
    "We want to calculate the cosine similarity of each item with every other item in the dataset. So we just pass the lyrics_matrix as argument."
   ]
  },
  {
   "cell_type": "code",
   "execution_count": 52,
   "metadata": {},
   "outputs": [],
   "source": [
    "cosine_similarities = cosine_similarity(lyrics_matrix) "
   ]
  },
  {
   "cell_type": "markdown",
   "metadata": {},
   "source": [
    "Once we get the similarities, we'll store in a dictionary the names of the 50  most similar songs for each song in our dataset."
   ]
  },
  {
   "cell_type": "code",
   "execution_count": 53,
   "metadata": {},
   "outputs": [],
   "source": [
    "similarities = {}"
   ]
  },
  {
   "cell_type": "code",
   "execution_count": 54,
   "metadata": {},
   "outputs": [],
   "source": [
    "for i in range(len(cosine_similarities)):\n",
    "    # Now we'll sort each element in cosine_similarities and get the indexes of the songs. \n",
    "    similar_indices = cosine_similarities[i].argsort()[:-50:-1] \n",
    "    # After that, we'll store in similarities each name of the 50 most similar songs.\n",
    "    # Except the first one that is the same song.\n",
    "    similarities[songs['song'].iloc[i]] = [(cosine_similarities[i][x], songs['song'][x], songs['artist'][x]) for x in similar_indices][1:]"
   ]
  },
  {
   "cell_type": "code",
   "execution_count": 41,
   "metadata": {},
   "outputs": [
    {
     "name": "stdout",
     "output_type": "stream",
     "text": [
      "Angels Unaware [(0.3223239634613378, 'Maybe Today', 'Bob Seger'), (0.2604143900434499, 'Lead Us Up The Mountain', 'Matt Redman'), (0.2561472613051227, 'Maybe I Could Change', 'Utopia'), (0.2378424117635568, 'Lead The Way', 'Mariah Carey'), (0.23176681863053814, \"I'm Going Left\", 'Eric Clapton'), (0.20130663744461746, 'Maybe In The End', 'Kenny Rogers'), (0.2004323556736315, 'Angels', 'Amy Grant'), (0.1991741929074009, 'Love Comes Tumbling', 'U2'), (0.18617124142480704, 'Highway', 'Moody Blues'), (0.17001027175458117, 'Wings Of A Lie', 'Starship'), (0.16865597035160734, 'Heartbreak Down', 'P!nk'), (0.1671381822075234, 'Girl', 'Tori Amos'), (0.16136479061875664, 'Maybe Tomorrow - The Jackson 5', 'Michael Jackson'), (0.15476841969200839, 'Maybe', 'Alison Krauss'), (0.15224585093546084, 'Prelude 12', 'Styx'), (0.14785954488460656, 'The Eye Of The Storm', 'Kris Kristofferson'), (0.14771736962723617, 'Between Heaven And Here', 'Kris Kristofferson'), (0.1394423475868869, 'A Means To An End', 'Joy Division'), (0.13896969394811332, 'Joy', 'Selah'), (0.13607126489532384, 'Do You Want To Break Up?', 'Eurythmics'), (0.13605737160665238, 'Always On My Mind', 'Pet Shop Boys'), (0.1337562081786974, 'Face The Promise', 'Bob Seger'), (0.13315173989730086, \"A Mother's Prayer\", 'Celine Dion'), (0.13290988789416988, 'Less Than Perfect', 'Culture Club'), (0.13287197293677203, 'New Way To Love', 'Reo Speedwagon'), (0.13172136246682467, 'Maybe Tomorrow', 'Wet Wet Wet'), (0.13131526397801288, 'Ice Cream Girl', 'Lloyd Cole'), (0.12762881047372848, 'It Goes Like It Goes', 'Dusty Springfield'), (0.1268744561244447, 'Clean Rain', 'Vonda Shepard'), (0.126452509802045, 'I Trust You', 'Kenny Rogers'), (0.12408479965768197, \"I'll Come Home To You\", 'Michael Jackson'), (0.12336939408237138, 'Gone', 'Justin Timberlake'), (0.12289101989896946, 'Anything Is Possible', 'Zoegirl'), (0.11769204985185656, \"It's Not Too Late\", 'Demi Lovato'), (0.11696146951895128, 'Return Of The Grievous Angel', 'Counting Crows'), (0.11577055246264276, 'Experience', 'Diana Ross'), (0.11576602209397209, 'Always On My Mind', 'Johnny Cash'), (0.11547021679210004, 'I Am Ready', 'Dolly Parton'), (0.11456316789268312, 'Damnation Angels', 'W.A.S.P.'), (0.11286876197214912, 'I Have A Dream', 'ABBA'), (0.11127155298665918, 'Everything Works If You Let It', 'Cheap Trick'), (0.10922718824335831, 'Now Or Never', 'Kenny Loggins'), (0.10813766068135723, 'Home By Another Way', 'James Taylor'), (0.10718233621875681, 'Brave New World', 'Ray Boltz'), (0.10665815801943405, \"Can't Let Her Get Away\", 'Michael Jackson'), (0.1056329189556016, 'My Secret Heart', 'Kylie Minogue'), (0.10507814605109009, 'Army Of Two', 'Olly Murs'), (0.10497961658256723, 'Let Me Let Go', 'Faith Hill')]\n",
      "I Don't Wanna Break [(0.6109389770057472, \"Don't Wanna Be In Love\", 'Ne-Yo'), (0.5343573260082661, 'Do Right To Me Baby', 'Bob Dylan'), (0.45476462107031046, 'Never Enough', 'One Direction'), (0.41624406462772656, 'I Turned Into A Martian', 'Misfits'), (0.41562641831769986, 'Geronimo', 'Unwritten Law'), (0.3923998871270809, 'Break It Up', 'Patti Smith'), (0.38164306133789205, 'Stay Crazy', 'Helloween'), (0.3782315888279678, 'Sweeterman (Remix)', 'Drake'), (0.3765762206968873, 'The Run And Go', 'Twenty One Pilots'), (0.37397369818196247, 'Break The Walls', 'Kelly Family'), (0.3736007765038378, \"Make No Mistakes, She's Mine\", 'Kenny Rogers'), (0.36585170322976596, 'Midnight Swim', 'Incubus'), (0.3492047620778127, \"Rockin' Pneumonia\", 'Grateful Dead'), (0.3471994230203388, 'Headphones', 'Leann Rimes'), (0.3469504516021105, 'Everywhere', 'Fleetwood Mac'), (0.3456502358879512, 'Somebody Like That', 'Glen Campbell'), (0.34454954305978114, 'With You', 'Vince Gill'), (0.3444065339970743, 'Better', 'Britney Spears'), (0.3388379108058942, 'Bright', 'Zayn Malik'), (0.33707497825561317, 'Rehab', 'Rihanna'), (0.3348876353027035, 'Flipside', 'Lana Del Rey'), (0.3298736614848228, \"Lyin' In Bed\", 'Ziggy Marley'), (0.3243099931646569, \"I Don't Want To Know Your Name\", 'Glen Campbell'), (0.31693066776711554, 'Big Man', 'Status Quo'), (0.31646455001395385, 'Jonathan', 'Fiona Apple'), (0.31639947840604987, 'Use Somebody', 'One Direction'), (0.3152908101350621, 'Downpour', 'Backstreet Boys'), (0.31030029198265424, \"Don't Break My Heart\", 'UB40'), (0.308268464193943, 'OMG', 'Usher'), (0.30430780982415945, 'Fallen Angel', 'Backstreet Boys'), (0.30191478415873985, 'Girls Just Want To Have Fun', 'Glee'), (0.30107472416369657, 'Meet Me In The Pale Moonlight', 'Lana Del Rey'), (0.29692908360939674, 'Girls And Boys', 'Pet Shop Boys'), (0.29332205126908306, 'I Wanna Be Loved', 'Elvis Costello'), (0.29155749743012127, 'Give Me All', 'Chaka Khan'), (0.28113851000316653, 'Private Show', 'P!nk'), (0.27991131136139447, \"I Can't Breakaway\", 'Natalie Cole'), (0.2758822800975073, 'Shot Me In The Heart', 'Christina Perri'), (0.2748429492363529, 'Runaway', 'Linkin Park'), (0.27231758748113016, \"When It's Love\", 'Van Halen'), (0.26707025566104436, \"I Don't Want To Change The World\", 'Ozzy Osbourne'), (0.2670481920868205, 'Famous', 'Vertical Horizon'), (0.26547405706267263, 'Wish I Was Your Lover', 'Enrique Iglesias'), (0.2654239296659786, 'Freak No More', 'Migos'), (0.264935205107469, 'Calypso', 'Chris Brown'), (0.2624687552192063, 'Here We Go Again', 'Lady Gaga'), (0.25856241516023337, \"I Don't Wanna Go Home\", 'Alan Parsons Project'), (0.24996876381122604, 'The Bed', 'Lou Reed')]\n",
      "Save The Day [(0.21652281799442186, \"She's Too Good For Me\", 'Sting'), (0.19513471916372926, 'Get Down Like That', 'Ne-Yo'), (0.18178955878803094, 'To Love Somebody', 'Leonard Cohen'), (0.1800730466631873, \"Baby It's Me\", 'Diana Ross'), (0.17898496061865843, 'Jfk', 'Lana Del Rey'), (0.17839861011019548, 'Almost Like Love', 'Yes'), (0.1747175254091409, 'I Like Love', 'Roy Orbison'), (0.17446795605514032, \"I'm Against It\", 'Overkill'), (0.16576029483538068, \"Don't Go\", 'Ramones'), (0.16491026257553165, 'Smile', 'Uncle Kracker'), (0.16382159085674705, 'Walk Like A Man', 'Grand Funk Railroad'), (0.16256697776192772, 'Save Me', 'Queen'), (0.16160691316343948, 'Black Cross', 'Red Hot Chili Peppers'), (0.15411843321336133, 'Whatever It Is', 'Zac Brown Band'), (0.15344446911415213, \"I Don't Want To Want You\", 'Sia'), (0.15090778086483975, \"I Got Nothin' Left\", 'Celine Dion'), (0.15036565862696363, \"It Don't Seem Right\", 'Neil Diamond'), (0.14821997434403048, 'Me, Myself, And I', 'Hanson'), (0.14799130350038783, \"Ain't Got You\", 'Bruce Springsteen'), (0.14732964085146721, 'Walks Like A Lady', 'Steve Miller Band'), (0.14690137372835496, 'Milkcow Blues', 'Aerosmith'), (0.14611310427304774, 'Move Over', 'Bread'), (0.14445181390891865, 'Streetwalker', 'Michael Jackson'), (0.1440789837683298, 'Touch Me', 'Flo-Rida'), (0.14318139762023996, 'Oh Girl', 'Leo Sayer'), (0.14308616164045437, 'Shame', 'Pitbull'), (0.14298144807587088, 'Addicted', 'Kelly Clarkson'), (0.14296140055478432, 'I Paralyze', 'Cher'), (0.14132877654053205, 'Supa Freak', 'Young Jeezy'), (0.1394455696814167, 'Your Love (L.o.v.e. Reggae Mix)', 'Wyclef Jean'), (0.13902625305287503, 'Is There Anybody Out There', 'Maroon 5'), (0.1378910199387587, 'Hollywood', 'Michael Buble'), (0.1376144771359495, 'Show Her The Way', 'Michael Bolton'), (0.1373703849557234, 'Somebody Like You', 'Keith Urban'), (0.1366599238652966, 'Next Man', 'Everlast'), (0.13657271769572107, 'Too Much', 'Drake'), (0.13630987699676916, 'Rocket Queen', \"Guns N' Roses\"), (0.1355633976761884, 'I Got My Baby', 'Faith Hill'), (0.1353415153278254, \"We Got A Bad Thing Goin'\", 'David Allan Coe'), (0.13496622590115284, 'Shake It Up', 'Pitbull'), (0.13491993923851436, 'Queen Of The Deep', 'Ufo'), (0.13488066199505921, 'New Star', 'Tears For Fears'), (0.13473232109168892, \"Lovin' Cup\", 'Steve Miller Band'), (0.1344483277775676, 'Which Way', 'Bob Seger'), (0.13417673783930922, 'Anything For You', 'Gloria Estefan'), (0.13394748663270536, 'But, Honestly', 'Foo Fighters'), (0.13369143476645184, 'Crazy', 'Neil Diamond'), (0.13321927550891727, 'Sunshine And Summertime', 'Faith Hill')]\n",
      "The Place In Your Heart [(0.2821723004180808, 'We Can Start It All Over Again', 'Leo Sayer'), (0.2683070607801592, 'For The Heart', 'Elvis Presley'), (0.2647931842468798, 'Big Love, Big Heartache', 'Elvis Presley'), (0.2610400064772075, 'Surrender', 'Vanessa Williams'), (0.26037682805745627, 'Here Is My Heart', 'Lionel Richie'), (0.25532312719068356, 'I Wish My Heart Could Talk', 'Hank Snow'), (0.2509536011907314, 'Have A Heart', 'Celine Dion'), (0.25021832738392696, 'Something To Believe In', 'Steve Miller Band'), (0.24701758421617026, 'We Can Start All Over Again', 'Gloria Gaynor'), (0.24658407239643051, 'Wings Of A Lie', 'Starship'), (0.24409739233332295, \"A Mother's Prayer\", 'Celine Dion'), (0.23913153394830522, 'If Love Is Real', 'Olivia Newton-John'), (0.23614134473817144, 'Straight From The Heart', 'Allman Brothers Band'), (0.23441994590627746, 'I Told A Lie To My Heart', 'Hank Williams'), (0.23416584704636545, 'Heartbreaker', 'Free'), (0.23333964737017437, 'One Has My Name, The Other Has My Heart', 'Nat King Cole'), (0.23056440587471366, 'I Witness', 'Black Sabbath'), (0.2255438788264194, 'Forever In Blue', 'Journey'), (0.22487504609040795, 'You Put This Love In My Heart', 'Keith Green'), (0.22373348638979804, 'My Secret Heart', 'Kylie Minogue'), (0.22293091209901092, 'Love Knows I Love You', 'Backstreet Boys'), (0.22134565134898745, 'I Can Feel You Drifting', 'Kenny Rogers'), (0.21952084984469786, 'Plc.4 Mie Haed', 'Linkin Park'), (0.2191443339275127, 'The Other Side', 'Toto'), (0.21573050139585181, 'Everywhere', 'Fleetwood Mac'), (0.21438991409609054, 'All I Can Give You Is My Heart', 'Hank Williams Jr.'), (0.21413369305975025, 'Save Me', 'Queen'), (0.21337349663637617, 'Do You Know Who I Am', 'Elvis Presley'), (0.21085506625968695, 'Love Comes', 'Cheap Trick'), (0.20739952116352878, 'Yes, I Will', 'Backstreet Boys'), (0.20709060266174076, 'Keep It On The Real', 'Xscape'), (0.20627525327874985, 'Take This Heart', 'Richard Marx'), (0.20266148689961944, \"Don't Let Him Steal Your Heart Away\", 'Phil Collins'), (0.20232441383359132, 'Try Me One More Time', 'Wanda Jackson'), (0.20145298663120859, \"The Way Love's Meant To Be\", 'Regine Velasquez'), (0.20129998936235724, 'Dancing In The Dark', 'Bruce Springsteen'), (0.19945894103918307, 'One Kiss From You', 'Britney Spears'), (0.1994086958503608, 'This Old Heart Of Mine (Is Weak For You)', 'Isley Brothers'), (0.19882942093042988, 'My Heart Is Open', 'Keith Urban'), (0.19728524528031569, 'Through The Dark', 'One Direction'), (0.1943139745815624, 'Move Over', 'Bread'), (0.19395019575246414, 'The Bed', 'Lou Reed'), (0.19177838007322348, \"Lookin' For Love\", 'Out Of Eden'), (0.19095436946201833, \"This Guy's In Love With You\", 'Fastball'), (0.19025156294958206, 'One Man', 'R. Kelly'), (0.1893240393554605, 'Real World', 'Foreigner'), (0.18889799428675252, 'In My Heart', 'John Denver'), (0.18887979549660058, \"I'd Lie For You\", 'Meat Loaf')]\n",
      "The Wonderful Cross [(0.32691286857057916, 'At The Foot Of The Cross', 'Ray Boltz'), (0.2851666543705842, 'Paths That Cross', 'Patti Smith'), (0.2841077662617438, 'Do I Ever Cross Your Mind?', 'Bonnie Raitt'), (0.2831060708298219, 'If You Were The Only Girl In The World', 'Dean Martin'), (0.279777344939004, \"It's The Most Wonderful Time Of The Year\", 'Amy Grant'), (0.24743331478441136, 'Crucified With Christ', 'Religious Music'), (0.20664919291422412, 'Love Is', 'Emmylou Harris'), (0.1969266668526315, 'At The Foot Of The Cross (Ashes To Beauty)', 'Don Moen'), (0.1893060165287889, 'That Wonderful Someone', 'Patsy Cline'), (0.17508833502189422, 'Little Me', 'Little Mix'), (0.17177735684252454, \"I Don't Know Why\", 'Erasure'), (0.16906049156330893, 'Cross On The Highway', 'Hank Williams Jr.'), (0.16756548226394913, 'Draw Me', 'Keith Green'), (0.16606663773274574, 'OMG', 'Usher'), (0.16534879808383524, 'Use Somebody', 'One Direction'), (0.15797966771226285, 'Girls And Boys', 'Pet Shop Boys'), (0.15301080785290702, \"When It's Love\", 'Van Halen'), (0.14961179375697445, 'Better', 'Britney Spears'), (0.14633694232014852, 'All My Life', 'Ella Fitzgerald'), (0.1461659398510142, \"For All You've Done\", 'Point Of Grace'), (0.1419046472079362, 'I Have A Dream', 'ABBA'), (0.14068522104129272, 'My Love Life', 'Morrissey'), (0.13869776822751276, 'Thank You Love', 'Doobie Brothers'), (0.13665952008613308, 'The Bed', 'Lou Reed'), (0.13657811995683658, 'Idiot', 'Coldplay'), (0.13402956673254784, \"I'm So Much In Love\", 'Modern Talking'), (0.13234110918676115, 'Wrong Number', 'Doobie Brothers'), (0.13157524980408708, 'Heartache For Everyone', 'Indigo Girls'), (0.1299335825852729, 'That I Might Be Free', 'Indiana Bible College'), (0.12988021339959493, 'How Could I Live', 'Hillsong United'), (0.12983387211466274, 'Shot Me In The Heart', 'Christina Perri'), (0.12831908706938155, 'Kiss Of Freedom', 'Uriah Heep'), (0.12735466947095245, 'Cross-Eyed Mary', 'Iron Maiden'), (0.12557911117067636, 'Careless Love', 'Janis Joplin'), (0.1246482933798379, 'Never Give Up', 'Sia'), (0.12286997025807495, \"Love Don't Live Here Anymore\", 'Modern Talking'), (0.12040724100079149, 'Cotton Mouth River', 'Jim Croce'), (0.12039846065673802, 'Oh Where Oh Where Is Love?', 'Kinks'), (0.11935578874677526, 'Crown Of Thorns', 'Yngwie Malmsteen'), (0.11832216840432139, 'Rehab', 'Rihanna'), (0.11805929729224485, 'Jesus Walking On The Water', 'Violent Femmes'), (0.11600920186507209, 'Still In Love', 'Natalie Cole'), (0.115307651760443, 'W.A.M.S.', 'Fall Out Boy'), (0.1144341808054588, 'I Will Love', 'Hillsong United'), (0.11327207057582236, 'Letter', 'America'), (0.112908993322547, 'Brixton', 'Zebrahead'), (0.11275521140034284, 'Before We Go', 'Santana'), (0.11257599495681342, 'Girl On Fire', 'Glee')]\n",
      "Face To Face [(0.24873230469342414, 'How Long Is Forever', 'Willie Nelson'), (0.22812191317735492, 'Forever Young', 'Diana Ross'), (0.22582800060030095, 'Forever', 'Kiss'), (0.21551958174591404, 'Forever', 'Eurythmics'), (0.21015633691830776, 'Forever Young', 'Meat Loaf'), (0.2026586774222967, 'Soldier', 'Ingrid Michaelson'), (0.1994747856805877, \"We've Got Tonite\", 'Bob Seger'), (0.1931069006748466, 'Face To Face', 'Foreigner'), (0.18858400231410155, 'As The Deer', 'Religious Music'), (0.18169072541964534, 'He Needs Me', 'Bette Midler'), (0.17771676870695824, 'Here Comes The Knight', 'Van Morrison'), (0.1734298367740657, 'The Other Side', 'Evanescence'), (0.1726706594046907, 'The Other Side', 'Toto'), (0.16983385389588807, 'First You Have To Say You Love Me', 'Neil Diamond'), (0.16884180554077244, 'For Once In My Life', 'Michael Buble'), (0.1654871829228223, 'In Your Face', 'Kiss'), (0.16455405578637808, 'Stand My Ground', 'Within Temptation'), (0.1635314067094862, 'Right Now', 'One Direction'), (0.1605379230261013, 'Bad', 'Michael Jackson'), (0.15711652622317265, 'Wings Of A Lie', 'Starship'), (0.15570748305284302, 'Here Is My Heart', 'Lionel Richie'), (0.15372294411000564, 'More And More', 'Gary Valenciano'), (0.15220417402927064, 'How Does It Feel', 'Toto'), (0.15183778600617961, \"I Won't Back Down\", 'Pearl Jam'), (0.15035921268509758, 'Lets Get Together Again', 'Human League'), (0.14990439490806667, 'I Got You Babe', 'Etta James'), (0.14981441758891828, 'Safe', 'George Michael'), (0.149612793467455, 'Forever In Blue', 'Journey'), (0.14898995962342876, \"Lookin' For Love\", 'Out Of Eden'), (0.14796708357950178, 'I Would Have Waited Forever', 'Yes'), (0.1474832429703609, 'I Love You', 'Lionel Richie'), (0.14719948945154274, 'Heart Of Steel', 'Manowar'), (0.1452418654984204, 'Unleash The Beast (Within)', 'Overkill'), (0.1451880621768782, 'The More We Try', 'Kenny Loggins'), (0.14471743747845134, 'Shout To The Lord', 'Randy Travis'), (0.14410629440927208, 'Stand Down (Demo)', 'Culture Club'), (0.14403832268753847, 'Invaders', 'Iron Maiden'), (0.14387859728715718, 'Looking For Love', 'R. Kelly'), (0.1426681477105034, 'I Know You, I Live You', 'Chaka Khan'), (0.1421142676351327, 'Good Enough For Me', 'Tiffany'), (0.1414877146165822, 'Whatever You Want Babe', 'Nazareth'), (0.14118749356028484, 'Loving You Is All I Know', 'Pretenders'), (0.14017410347033224, 'Stand In The Fire', 'Warren Zevon'), (0.1399012784768529, 'Eight Days A Week', 'The Beatles'), (0.13945411718665965, 'Stay With Me', 'Peter Cetera'), (0.13883754064839268, 'Where I Stood', 'Leann Rimes'), (0.13716799584259903, 'Love Me', 'Gloria Estefan'), (0.13703800166978333, 'Just Another Night', 'Cat Stevens')]\n",
      "My Madrigal [(0.4804337278842547, 'You Love Me To Death', 'Hooverphonic'), (0.37641008749911437, 'Till I Go Down', 'Jackson Browne'), (0.3359563491242596, 'Use Somebody', 'One Direction'), (0.31370771708637685, 'Girls And Boys', 'Pet Shop Boys'), (0.3056136627675621, 'Better', 'Britney Spears'), (0.29189624938177383, 'OMG', 'Usher'), (0.28805973497025905, 'Death Row', 'Judas Priest'), (0.2864564775332005, \"Til It's Gone\", 'Kenny Chesney'), (0.27468317262068226, 'Death Of Me', 'Ramones'), (0.2722094154009372, 'Shot Me In The Heart', 'Christina Perri'), (0.2624309015510669, 'The Bed', 'Lou Reed'), (0.2617350214167914, \"When It's Love\", 'Van Halen'), (0.25904604651327084, 'Never Give Up', 'Sia'), (0.24975466334872604, 'Heartache For Everyone', 'Indigo Girls'), (0.23722189353364112, 'Rehab', 'Rihanna'), (0.23598594094441813, 'Kiss Of Freedom', 'Uriah Heep'), (0.21508950743873076, 'I Smile', 'Kirk Franklin'), (0.2120015249920624, 'Girl On Fire', 'Glee'), (0.20841447683565742, 'Till The Day I Die', 'Whitesnake'), (0.2083908231634482, 'Wrong Number', 'Doobie Brothers'), (0.2081930215898047, 'W.A.M.S.', 'Fall Out Boy'), (0.20390038286522086, 'The Longest Pee', 'Adam Sandler'), (0.2006195169844957, 'I Turned Into A Martian', 'Misfits'), (0.19605268707115564, 'A Little Bit Of Green', 'Elvis Presley'), (0.19315680801754828, \"Studio Lovin'\", 'Wiz Khalifa'), (0.18534097204827124, 'Blue Water Baboon Farm', 'Dave Matthews Band'), (0.18528429796150267, 'Cost Of Love', 'Linda Ronstadt'), (0.18516848537743463, 'Highway Unicorn', 'Lady Gaga'), (0.1845534178710387, 'Touch Me', 'Doors'), (0.1836388715040952, 'I Want To Die A Beautiful Death', 'Everclear'), (0.18318249199092854, 'Careless Love', 'Janis Joplin'), (0.1808581682381469, 'Love You Till Tuesday', 'David Bowie'), (0.18010081628951352, 'Love Me Till The Sun Shines', 'Kinks'), (0.1799982767282866, 'Life Itself', 'George Harrison'), (0.17876830299677002, 'Love And Trust', 'Our Lady Peace'), (0.1781635324878242, 'Down In The Park', 'Gary Numan'), (0.17775417428033338, 'One', 'Metallica'), (0.1766644762553231, 'Money Blown', 'John Legend'), (0.17575002319168234, 'Masters Of War', 'Pearl Jam'), (0.17568454968306435, 'Queen Of Groucho', 'Queen'), (0.17506465141391922, 'Praise Of Death', 'Slayer'), (0.17493661565857846, 'Who Will Love You Like I Do', 'Modern Talking'), (0.17380523793684655, 'Time Is On My Side', 'Modern Talking'), (0.1691364500578143, \"You're Not Lisa\", 'Modern Talking'), (0.16857106183420095, 'Crypts Of Eternity', 'Slayer'), (0.1681650467322671, 'Salome', \"Old 97's\"), (0.167916453081816, 'Someplace Else', 'George Harrison'), (0.16770340485332347, 'Another Day', 'U2')]\n",
      "Missing You [(0.4124132458552324, 'Missing You', 'Amy Grant'), (0.34812131972143745, 'Something Was Missing', 'Harry Connick, Jr.'), (0.2965235880087466, 'Hard To Say Goodbye', 'Xscape'), (0.29450906104532654, 'Think Of Me', 'Eddie Cochran'), (0.29240352795023883, 'I Aint Gonna Let You Break My Heart Again', 'Bonnie Raitt'), (0.2904150405151042, 'Bigger Than Elvis', 'Chicago'), (0.26822230529676255, 'Over And Over', 'Santana'), (0.26791422940977777, 'I Can Feel You Drifting', 'Kenny Rogers'), (0.2521299937338963, 'Girl That Got Away', 'Lana Del Rey'), (0.24458792462011902, 'Take This Heart', 'Richard Marx'), (0.22635533807595754, \"Ain't No Sunshine\", 'Hanson'), (0.2217651926742435, 'Like I Love You', 'Amy Grant'), (0.21170387396672366, 'Better Left Forgotten', 'Willie Nelson'), (0.20847616152433002, \"Two Out Of Three Ain't Bad\", 'Meat Loaf'), (0.1992100322846458, 'Ambulance', 'Blur'), (0.19382998078830285, 'Sometimes I Feel Like Screaming', 'Deep Purple'), (0.19329422168852023, \"Ain't Nobody Gonna Miss Me\", 'George Jones'), (0.19145530621156673, \"Ain't No Sunshine\", 'Freddie King'), (0.1863282948447182, 'Heartbreak Down', 'P!nk'), (0.1862456583209539, \"Can't Blame You\", 'Lucky Dube'), (0.18614763332018147, \"Ain't Got Nothing If You Ain't Got Love\", 'Michael Bolton'), (0.18311442991711707, \"Ain't No Sad Song\", 'Diana Ross'), (0.18069460145663144, 'Close To Crazy', 'Reba Mcentire'), (0.1799808750624129, 'I Got To Find My Baby', 'The Beatles'), (0.1732459108781757, \"It Ain't Easy\", 'Uriah Heep'), (0.1722426410173611, 'Down To You', 'Bonnie Raitt'), (0.1701244191577639, 'New Sensation', 'Train'), (0.16931865148408762, 'Killing Time', 'Kris Kristofferson'), (0.16910220266620876, 'I Just Want Your Company', 'Linkin Park'), (0.1687534166130032, 'Kicking And Screaming', 'Miley Cyrus'), (0.1679508540513682, \"Ain't Nobody's Business\", 'Hank Williams Jr.'), (0.1673195820386237, \"Don't You Say No\", 'R. Kelly'), (0.16579882882110286, \"The Sun Ain't Gonna Shine Anymore\", 'Frankie Valli'), (0.16499619120193848, 'Living And Living Well', 'George Strait'), (0.16143613769679857, 'Hard Times', 'Arlo Guthrie'), (0.1596924481431546, \"Baby Ain't That Fine\", 'George Jones'), (0.1593849867793833, \"Ain't That Lovin' You\", 'Eric Clapton'), (0.15823228214715046, \"Don't Think Twice\", 'Dolly Parton'), (0.15801144130173758, 'Gone', 'Justin Timberlake'), (0.15571217773215523, 'Bullet From A Gun', 'The Script'), (0.1557119996729733, 'Ohm', 'Yo La Tengo'), (0.15474738032900182, 'Selfish Girl', 'Rihanna'), (0.15182453346669691, \"Don't Cry No Tears\", 'Neil Young'), (0.15073188190720097, 'Show Me Around', 'Divine'), (0.14974586594322525, 'In The Heat Of The Night', 'Pat Benatar'), (0.14584280616495654, \"You Don't Know Love\", 'Olly Murs'), (0.14196932824606373, 'Again Tonight', 'John Mellencamp'), (0.14019876456969535, 'Call Me The Breeze', 'Johnny Cash')]\n",
      "You Opened My Eyes [(0.27135169884163146, \"I Can't Take My Eyes Off You\", 'Josh Groban'), (0.2584725021152569, \"Feelin' So Good (Bad Boy Remix)\", 'Puff Daddy'), (0.2092779007785397, \"He's Only Everything\", 'Reba Mcentire'), (0.20828198313845345, 'Help Me Believe', 'Kirk Franklin'), (0.20200724561640185, 'Eyes Of Innocence', 'Gloria Estefan'), (0.17661310656811302, 'Open', 'Queensryche'), (0.17286767737885864, 'Every Time', 'Hillsong United'), (0.16955237521607136, 'Nick Of Time', 'Zoegirl'), (0.16904942229178982, 'Jesus The Same', 'Hillsong United'), (0.16665964577111889, 'Lies Of Serpents, A River Of Tears', 'Zao'), (0.1655124243062323, 'I Believe', 'Planetshakers'), (0.16491433176467912, 'Shirtsleeves', 'Ed Sheeran'), (0.1638329778059197, 'The Rest Of The Dream', 'Nitty Gritty Dirt Band'), (0.16217862257284366, 'In Your Eyes', 'Alison Krauss'), (0.1614200641930172, 'His Love', 'Hillsong United'), (0.1614200641930172, 'His Love', 'Hillsong'), (0.15594091418604916, 'Now I Know', 'Rihanna'), (0.15204979919080944, 'Good Time', 'Out Of Eden'), (0.1514049006628715, 'Lies In Your Eyes', 'Madonna'), (0.15107092862043522, 'Loving Each Other', 'Ray Boltz'), (0.15064547972931036, 'I Believe In Love', 'Lou Reed'), (0.14878906608253983, 'Make It With You', 'Dusty Springfield'), (0.14720987870541716, 'I Saw God Today', 'George Strait'), (0.14474751315693796, 'Hell In Paradise', 'Yoko Ono'), (0.14270150801368375, \"Why Don't You Believe Me\", 'Judds'), (0.142687170104226, 'All That She Wants', 'Ace Of Base'), (0.142640385553241, 'Bring It On', 'Lynyrd Skynyrd'), (0.14252910147087108, 'Disappear', 'Mazzy Star'), (0.14167297157617917, 'I Do Believe', 'Donna Summer'), (0.1384830377693468, \"With My Eyes Wide Open I'm Dreaming\", 'Natalie Cole'), (0.1379392326673878, 'More And More', 'Gary Valenciano'), (0.13686666595847405, '20 Eyes', 'Misfits'), (0.13479638413555728, 'Spanish Eyes', 'Tom Jones'), (0.13416220432463938, 'Occupy Your Mind', 'Dusty Springfield'), (0.1329621324484807, 'Anything Is Possible', 'Zoegirl'), (0.1327452102333779, 'That Old Pair Of Jeans', 'Fatboy Slim'), (0.13269776009308315, 'Am I To Believe?', 'Hillsong'), (0.1321984544047789, 'Bleed Well', 'HIM'), (0.1308780647733953, 'Follow Your Heart', 'Noa'), (0.13015991094767987, 'See You In The Next One', 'Verve'), (0.12828906737454826, '2 Of A Kind', 'Vanessa Williams'), (0.12810661871729523, 'Last Chance Lost', 'Joni Mitchell'), (0.1265319576729639, 'Oh Billy Please', 'Donna Summer'), (0.1263735007108972, \"You've Taken Over Me\", 'Freestyle'), (0.12585120576843145, 'A Whole New World', 'Lea Salonga'), (0.1255214304154621, 'Dancing With Tears In My Eyes', 'X'), (0.12542808300180097, 'You', 'Wishbone Ash'), (0.12461617101209078, 'Prove It To You One More Time Again', 'Kris Kristofferson')]\n",
      "Compromise [(0.3045865699773284, 'Better By You Better Than Me', 'Judas Priest'), (0.28419000230691854, 'Everybody Wants To Go To Heaven', 'Loretta Lynn'), (0.27635145253589366, 'I Want', 'Face To Face'), (0.26621756167339805, 'Everybody Wants To Go To Heaven', 'Alison Krauss'), (0.26442500300688526, 'Face To The Highway', 'Tom Waits'), (0.258645062646883, 'Man At The Top', 'Bruce Springsteen'), (0.25138312760377507, 'Not Right', 'Iggy Pop'), (0.2299581854128923, 'All That She Wants', 'Ace Of Base'), (0.21599475316817177, \"Nobody Knows You When You're Down And Out\", 'Otis Redding'), (0.20960457841023725, 'Good Time', 'Counting Crows'), (0.20874299319000106, \"After I Say I'm Sorry?\", 'Ella Fitzgerald'), (0.20292088665675295, 'All Over The World', 'Electric Light Orchestra'), (0.20161058653367664, 'Piece Of The Road', 'Tom T. Hall'), (0.20116224991974926, 'Better Than Anything', 'Natalie Cole'), (0.19867370705773466, 'Everybody Has The Blues', 'James Taylor'), (0.19590705957035243, 'Making A Good Thing Better', 'Olivia Newton-John'), (0.1890992281415878, 'I Want To Die A Beautiful Death', 'Everclear'), (0.1851668508404117, 'Fight For All The Wrong Reasons', 'Nickelback'), (0.18179915109035438, 'Bill Of Goods', 'Face To Face'), (0.1797879696639263, 'Rocket Ride', 'Kiss'), (0.17903236827715477, 'Gotta Be Somebody', 'Nickelback'), (0.1738249942546063, 'Better Love', 'Luther Vandross'), (0.16932661116267742, 'I Looked Back', 'Perry Como'), (0.16563974750532046, 'Word Up', 'Korn'), (0.16422083943916804, 'When Nobody Wants Your Body Anymore', 'Tom T. Hall'), (0.16055238898009358, 'Everybody Hates Me', 'Tim McGraw'), (0.1593419761895739, 'Too Late', 'Omd'), (0.15663421096202954, 'Better Off On Her Own', 'Roxette'), (0.1563981078524981, 'I Wanna Come Over', 'Alabama'), (0.15513638518461909, 'Black Messiah', 'Kinks'), (0.15343735760653937, 'The Way Some People Die', 'Yo La Tengo'), (0.1516178350936561, 'Irresponsible Hate Anthem', 'Marilyn Manson'), (0.1507307552963632, \"It's A Crime\", 'Oasis'), (0.14973550467113833, 'More You See Me Less', 'Wanda Jackson'), (0.14858854677437572, 'All We Want', 'Blur'), (0.147831017378271, \"Before I'll Set Her Free\", 'Conway Twitty'), (0.146874918910696, 'King And Country', 'Bee Gees'), (0.14664672061613176, 'Explain It To My Heart', 'Chicago'), (0.14371617211672236, 'Halcyon', 'Ellie Goulding'), (0.14366400774887453, 'Everywhere', 'Fleetwood Mac'), (0.14102912307081455, \"Baby It's Me\", 'Diana Ross'), (0.14027053820052432, 'Want To Be With You', 'Moody Blues'), (0.13791218935768565, 'Boy', 'Erasure'), (0.13778917312988317, 'Going Around One More Time', 'James Taylor'), (0.13769369911829343, \"Everybody's Sweetheart\", 'Vince Gill'), (0.13633572159961424, 'Give Me The Right', 'Elvis Presley'), (0.13548773165082595, 'New Blue Champion', 'Everclear'), (0.13404964109653958, 'Jealous Guy', 'Faces')]\n"
     ]
    }
   ],
   "source": [
    "i=0\n",
    "for k,v in similarities.items():\n",
    "    if(i==10):\n",
    "        break\n",
    "    print(k,v)\n",
    "    i+=1"
   ]
  },
  {
   "cell_type": "markdown",
   "metadata": {},
   "source": [
    "We can use that similarity scores to access the most similar items and give a recommendation.\n",
    "\n",
    "For that, we'll define our Content based recommender class."
   ]
  },
  {
   "cell_type": "code",
   "execution_count": 55,
   "metadata": {},
   "outputs": [],
   "source": [
    "class ContentBasedRecommender:\n",
    "    def __init__(self, matrix):\n",
    "        self.matrix_similar = matrix\n",
    "\n",
    "    def _print_message(self, song, recom_song):\n",
    "        rec_items = len(recom_song)\n",
    "        \n",
    "        print(f'The {rec_items} recommended songs for {song} are:')\n",
    "        for i in range(rec_items):\n",
    "            print(f\"Number {i+1}:\")\n",
    "            print(f\"{recom_song[i][1]} by {recom_song[i][2]} with {round(recom_song[i][0], 3)} similarity score\") \n",
    "            print(\"--------------------\")\n",
    "        \n",
    "    def recommend(self, recommendation):\n",
    "        # Get song to find recommendations for\n",
    "        song = recommendation['song']\n",
    "        # Get number of songs to recommend\n",
    "        number_songs = recommendation['number_songs']\n",
    "        # Get the number of songs most similars from matrix similarities\n",
    "        recom_song = self.matrix_similar[song][:number_songs]\n",
    "        # print each item\n",
    "        self._print_message(song=song, recom_song=recom_song)"
   ]
  },
  {
   "cell_type": "markdown",
   "metadata": {},
   "source": [
    "Now, instantiate class"
   ]
  },
  {
   "cell_type": "code",
   "execution_count": 56,
   "metadata": {},
   "outputs": [],
   "source": [
    "recommedations = ContentBasedRecommender(similarities)"
   ]
  },
  {
   "cell_type": "markdown",
   "metadata": {},
   "source": [
    "Then, we are ready to pick a song from the dataset and make a recommendation."
   ]
  },
  {
   "cell_type": "code",
   "execution_count": 58,
   "metadata": {},
   "outputs": [],
   "source": [
    "recommendation = {\n",
    "    \"song\": songs['song'].iloc[10],\n",
    "    \"number_songs\": 6\n",
    "}"
   ]
  },
  {
   "cell_type": "code",
   "execution_count": 59,
   "metadata": {},
   "outputs": [
    {
     "name": "stdout",
     "output_type": "stream",
     "text": [
      "The 6 recommended songs for Manowar are:\n",
      "Number 1:\n",
      "Get Up Stand Up by Peter Tosh with 0.253 similarity score\n",
      "--------------------\n",
      "Number 2:\n",
      "Forever by Omd with 0.217 similarity score\n",
      "--------------------\n",
      "Number 3:\n",
      "Don't Fight It by Kenny Loggins with 0.19 similarity score\n",
      "--------------------\n",
      "Number 4:\n",
      "King by Manowar with 0.178 similarity score\n",
      "--------------------\n",
      "Number 5:\n",
      "I Think I Could Stand You Forever by Toto with 0.178 similarity score\n",
      "--------------------\n",
      "Number 6:\n",
      "Stand My Ground by Within Temptation with 0.171 similarity score\n",
      "--------------------\n"
     ]
    }
   ],
   "source": [
    "recommedations.recommend(recommendation)"
   ]
  },
  {
   "cell_type": "markdown",
   "metadata": {},
   "source": [
    "And we can pick another random song and recommend again:"
   ]
  },
  {
   "cell_type": "code",
   "execution_count": 60,
   "metadata": {},
   "outputs": [],
   "source": [
    "recommendation2 = {\n",
    "    \"song\": songs['song'].iloc[120],\n",
    "    \"number_songs\": 5\n",
    "}"
   ]
  },
  {
   "cell_type": "code",
   "execution_count": 61,
   "metadata": {},
   "outputs": [
    {
     "name": "stdout",
     "output_type": "stream",
     "text": [
      "The 5 recommended songs for I've Been Everywhere are:\n",
      "Number 1:\n",
      "It's A Man's World by Cher with 0.347 similarity score\n",
      "--------------------\n",
      "Number 2:\n",
      "My Brother, My Enemy by Lucky Dube with 0.321 similarity score\n",
      "--------------------\n",
      "Number 3:\n",
      "For You by Lana Del Rey with 0.31 similarity score\n",
      "--------------------\n",
      "Number 4:\n",
      "I've Been Around by Hank Williams Jr. with 0.272 similarity score\n",
      "--------------------\n",
      "Number 5:\n",
      "Man On The Silver Mountain by Rainbow with 0.266 similarity score\n",
      "--------------------\n"
     ]
    }
   ],
   "source": [
    "recommedations.recommend(recommendation2)"
   ]
  },
  {
   "cell_type": "code",
   "execution_count": null,
   "metadata": {},
   "outputs": [],
   "source": []
  },
  {
   "cell_type": "code",
   "execution_count": null,
   "metadata": {},
   "outputs": [],
   "source": []
  },
  {
   "cell_type": "code",
   "execution_count": null,
   "metadata": {},
   "outputs": [],
   "source": []
  },
  {
   "cell_type": "code",
   "execution_count": null,
   "metadata": {},
   "outputs": [],
   "source": []
  },
  {
   "cell_type": "code",
   "execution_count": null,
   "metadata": {},
   "outputs": [],
   "source": []
  },
  {
   "cell_type": "code",
   "execution_count": null,
   "metadata": {},
   "outputs": [],
   "source": []
  },
  {
   "cell_type": "code",
   "execution_count": null,
   "metadata": {},
   "outputs": [],
   "source": []
  },
  {
   "cell_type": "code",
   "execution_count": null,
   "metadata": {},
   "outputs": [],
   "source": []
  },
  {
   "cell_type": "code",
   "execution_count": null,
   "metadata": {},
   "outputs": [],
   "source": []
  },
  {
   "cell_type": "code",
   "execution_count": null,
   "metadata": {},
   "outputs": [],
   "source": []
  },
  {
   "cell_type": "code",
   "execution_count": null,
   "metadata": {},
   "outputs": [],
   "source": []
  },
  {
   "cell_type": "code",
   "execution_count": null,
   "metadata": {},
   "outputs": [],
   "source": []
  },
  {
   "cell_type": "code",
   "execution_count": null,
   "metadata": {},
   "outputs": [],
   "source": []
  }
 ],
 "metadata": {
  "kernelspec": {
   "display_name": "Python 3 (ipykernel)",
   "language": "python",
   "name": "python3"
  },
  "language_info": {
   "codemirror_mode": {
    "name": "ipython",
    "version": 3
   },
   "file_extension": ".py",
   "mimetype": "text/x-python",
   "name": "python",
   "nbconvert_exporter": "python",
   "pygments_lexer": "ipython3",
   "version": "3.9.7"
  }
 },
 "nbformat": 4,
 "nbformat_minor": 2
}
